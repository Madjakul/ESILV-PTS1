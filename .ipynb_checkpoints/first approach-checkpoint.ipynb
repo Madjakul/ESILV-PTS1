{
 "cells": [
  {
   "cell_type": "code",
   "execution_count": 2,
   "metadata": {},
   "outputs": [],
   "source": [
    "import timeit"
   ]
  },
  {
   "cell_type": "markdown",
   "metadata": {},
   "source": [
    "# 1) Class definition :  the classic one"
   ]
  },
  {
   "cell_type": "code",
   "execution_count": 40,
   "metadata": {},
   "outputs": [],
   "source": [
    "class Redi():\n",
    "    def __init__(self,matrice=0):\n",
    "        #if matrice is not define, we return a fully 'finished' cube.\n",
    "        # color code : R for red, W for white, O for orange, Y for yellow, G for green, B for blue\n",
    "        if matrice == 0 :\n",
    "            matrice = []\n",
    "            for i in ('R','W','O','Y','G','B'):\n",
    "                matrice.append([[i,i,i],[i,'X',i],[i,i,i]])\n",
    "        self.cube = matrice\n",
    "        \n",
    "    def _print(self):\n",
    "        for i in range(len(self.cube)):\n",
    "            print(f\"Side number {i}\")\n",
    "            for j in range(len(self.cube[i])):\n",
    "                x = 2 - j \n",
    "                print(self.cube[i][0][x] + ' '+ self.cube[i][1][x] + ' ' + self.cube[i][2][x])\n",
    "        \n",
    "    def rotate(self,side,y,z):\n",
    "        \"\"\"\n",
    "        to change a cube, you need to param the info about the corner to rotate : on which side it is located,\n",
    "        we always talk about the right-hand corner.\n",
    "        :param side: 0,1,2 or 3. it define on which face of the redik the corner we want to rotate is located on\n",
    "        :param y: up or down, it define the location of the corner we want to move \n",
    "        :param z: 1 or -1, it define in wich way we rotate the corner. 1 is clockwise and -1 is reverse\n",
    "        \n",
    "        \"\"\"\n",
    "        if(y == 'up'):\n",
    "            topside=4\n",
    "            if(z==1):\n",
    "                nextside =  (side+1)%3\n",
    "                \n",
    "                #first let's swap the corner piece\n",
    "                a = self.cube[side][2][2]\n",
    "                self.cube[side][2][2] = self.cube[nextside][0][2]\n",
    "                self.cube[nextside][0][2] = self.cube[topside][2][0]\n",
    "                self.cube[topside][2][0]=a\n",
    "                \n",
    "                #secondly we swap the middle righ piece\n",
    "                a = self.cube[side][2][1]\n",
    "                self.cube[side][2][1] = self.cube[nextside][1][2]\n",
    "                self.cube[nextside][1][2] =  self.cube[topside][1][0]\n",
    "                self.cube[topside][1][0] = a\n",
    "                \n",
    "                #to finish we swap the middle top piece\n",
    "                a = self.cube[side][1][2]\n",
    "                self.cube[side][1][2]=self.cube[nextside][0][1]\n",
    "                self.cube[nextside][0][1]=self.cube[topside][2][1]\n",
    "                self.cube[topside][2][1] = a\n",
    "                \n",
    "            elif(z==-1):\n",
    "                nextside =  (side+1)%3\n",
    "                \n",
    "                #first let's swap the corner piece\n",
    "                a = self.cube[nextside][0][2]\n",
    "                self.cube[nextside][0][2] = self.cube[side][2][2]\n",
    "                self.cube[side][2][2] = self.cube[topside][2][0]\n",
    "                self.cube[topside][2][0] = a \n",
    "                \n",
    "                #secondly we swap the middle righ piece\n",
    "                a = self.cube[nextside][1][2]\n",
    "                self.cube[nextside][1][2] = self.cube[side][2][1]\n",
    "                self.cube[side][2][1] = self.cube[topside][1][0]\n",
    "                self.cube[topside][1][0] = a\n",
    "                \n",
    "                #to finish we swap the middle top piece\n",
    "                a = self.cube[nextside][0][1]\n",
    "                self.cube[nextside][0][1] = self.cube[side][1][2]\n",
    "                self.cube[side][1][2] = self.cube[topside][2][1]\n",
    "                self.cube[topside][2][1] = a\n",
    "                \n",
    "                \n",
    "        \n",
    "        "
   ]
  },
  {
   "cell_type": "code",
   "execution_count": 45,
   "metadata": {},
   "outputs": [
    {
     "name": "stdout",
     "output_type": "stream",
     "text": [
      "Side number 0\n",
      "R W W\n",
      "R X W\n",
      "R R R\n",
      "Side number 1\n",
      "G G W\n",
      "G X W\n",
      "W W W\n",
      "Side number 2\n",
      "O O O\n",
      "O X O\n",
      "O O O\n",
      "Side number 3\n",
      "Y Y Y\n",
      "Y X Y\n",
      "Y Y Y\n",
      "Side number 4\n",
      "G G G\n",
      "G X R\n",
      "G R R\n",
      "Side number 5\n",
      "B B B\n",
      "B X B\n",
      "B B B\n"
     ]
    }
   ],
   "source": [
    "# Quick test\n",
    "testcube =  Redi()\n",
    "#testcube._print()\n",
    "testcube.rotate(0,'up',1)\n",
    "testcube._print()"
   ]
  },
  {
   "cell_type": "markdown",
   "metadata": {},
   "source": [
    "### Speed test for the creation of an instance"
   ]
  },
  {
   "cell_type": "code",
   "execution_count": 13,
   "metadata": {
    "scrolled": true
   },
   "outputs": [
    {
     "name": "stdout",
     "output_type": "stream",
     "text": [
      "2.39 µs ± 220 ns per loop (mean ± std. dev. of 7 runs, 100000 loops each)\n"
     ]
    }
   ],
   "source": [
    "%timeit test =  Redi()"
   ]
  },
  {
   "cell_type": "code",
   "execution_count": 22,
   "metadata": {},
   "outputs": [
    {
     "data": {
      "text/plain": [
       "['R', 'R', 'R']"
      ]
     },
     "execution_count": 22,
     "metadata": {},
     "output_type": "execute_result"
    }
   ],
   "source": [
    "test = Redi()\n",
    "test.cube[0]"
   ]
  },
  {
   "cell_type": "markdown",
   "metadata": {},
   "source": [
    "# 2) Class definition : "
   ]
  }
 ],
 "metadata": {
  "kernelspec": {
   "display_name": "Python 3",
   "language": "python",
   "name": "python3"
  },
  "language_info": {
   "codemirror_mode": {
    "name": "ipython",
    "version": 3
   },
   "file_extension": ".py",
   "mimetype": "text/x-python",
   "name": "python",
   "nbconvert_exporter": "python",
   "pygments_lexer": "ipython3",
   "version": "3.7.1"
  }
 },
 "nbformat": 4,
 "nbformat_minor": 2
}
